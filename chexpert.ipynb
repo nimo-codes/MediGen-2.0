{
 "cells": [
  {
   "cell_type": "code",
   "execution_count": 20,
   "metadata": {},
   "outputs": [
    {
     "ename": "RuntimeError",
     "evalue": "output with shape [1, 224, 224] doesn't match the broadcast shape [3, 224, 224]",
     "output_type": "error",
     "traceback": [
      "\u001b[0;31m---------------------------------------------------------------------------\u001b[0m",
      "\u001b[0;31mRuntimeError\u001b[0m                              Traceback (most recent call last)",
      "\u001b[1;32m/Users/jarvis/pymycod/Hacksummit/chexpert.ipynb Cell 1\u001b[0m line \u001b[0;36m<cell line: 21>\u001b[0;34m()\u001b[0m\n\u001b[1;32m     <a href='vscode-notebook-cell:/Users/jarvis/pymycod/Hacksummit/chexpert.ipynb#W0sZmlsZQ%3D%3D?line=18'>19</a>\u001b[0m     \u001b[39mreturn\u001b[39;00m image\u001b[39m.\u001b[39munsqueeze(\u001b[39m0\u001b[39m)  \u001b[39m# Add a batch dimension\u001b[39;00m\n\u001b[1;32m     <a href='vscode-notebook-cell:/Users/jarvis/pymycod/Hacksummit/chexpert.ipynb#W0sZmlsZQ%3D%3D?line=19'>20</a>\u001b[0m image_path \u001b[39m=\u001b[39m \u001b[39m'\u001b[39m\u001b[39m/Users/jarvis/pymycod/tensorflow_AI/chest_xray/val/PNEUMONIA/person1946_bacteria_4875.jpeg\u001b[39m\u001b[39m'\u001b[39m \n\u001b[0;32m---> <a href='vscode-notebook-cell:/Users/jarvis/pymycod/Hacksummit/chexpert.ipynb#W0sZmlsZQ%3D%3D?line=20'>21</a>\u001b[0m input_image \u001b[39m=\u001b[39m preprocess_image(image_path)\n\u001b[1;32m     <a href='vscode-notebook-cell:/Users/jarvis/pymycod/Hacksummit/chexpert.ipynb#W0sZmlsZQ%3D%3D?line=21'>22</a>\u001b[0m image \u001b[39m=\u001b[39m cv2\u001b[39m.\u001b[39mimread(input_image)\n\u001b[1;32m     <a href='vscode-notebook-cell:/Users/jarvis/pymycod/Hacksummit/chexpert.ipynb#W0sZmlsZQ%3D%3D?line=22'>23</a>\u001b[0m grayscale_image \u001b[39m=\u001b[39m cv2\u001b[39m.\u001b[39mcvtColor(image, cv2\u001b[39m.\u001b[39mCOLOR_BGR2GRAY)\n",
      "\u001b[1;32m/Users/jarvis/pymycod/Hacksummit/chexpert.ipynb Cell 1\u001b[0m line \u001b[0;36mpreprocess_image\u001b[0;34m(image_path)\u001b[0m\n\u001b[1;32m     <a href='vscode-notebook-cell:/Users/jarvis/pymycod/Hacksummit/chexpert.ipynb#W0sZmlsZQ%3D%3D?line=11'>12</a>\u001b[0m image \u001b[39m=\u001b[39m Image\u001b[39m.\u001b[39mopen(image_path)\n\u001b[1;32m     <a href='vscode-notebook-cell:/Users/jarvis/pymycod/Hacksummit/chexpert.ipynb#W0sZmlsZQ%3D%3D?line=12'>13</a>\u001b[0m transform \u001b[39m=\u001b[39m transforms\u001b[39m.\u001b[39mCompose([\n\u001b[1;32m     <a href='vscode-notebook-cell:/Users/jarvis/pymycod/Hacksummit/chexpert.ipynb#W0sZmlsZQ%3D%3D?line=13'>14</a>\u001b[0m     transforms\u001b[39m.\u001b[39mResize((\u001b[39m224\u001b[39m, \u001b[39m224\u001b[39m)),  \u001b[39m# Resize to match the model's input size\u001b[39;00m\n\u001b[1;32m     <a href='vscode-notebook-cell:/Users/jarvis/pymycod/Hacksummit/chexpert.ipynb#W0sZmlsZQ%3D%3D?line=14'>15</a>\u001b[0m     transforms\u001b[39m.\u001b[39mToTensor(),           \u001b[39m# Convert to PyTorch tensor\u001b[39;00m\n\u001b[1;32m     <a href='vscode-notebook-cell:/Users/jarvis/pymycod/Hacksummit/chexpert.ipynb#W0sZmlsZQ%3D%3D?line=15'>16</a>\u001b[0m     transforms\u001b[39m.\u001b[39mNormalize(mean\u001b[39m=\u001b[39m[\u001b[39m0.485\u001b[39m, \u001b[39m0.456\u001b[39m, \u001b[39m0.406\u001b[39m], std\u001b[39m=\u001b[39m[\u001b[39m0.229\u001b[39m, \u001b[39m0.224\u001b[39m, \u001b[39m0.225\u001b[39m])  \u001b[39m# Normalize as needed\u001b[39;00m\n\u001b[1;32m     <a href='vscode-notebook-cell:/Users/jarvis/pymycod/Hacksummit/chexpert.ipynb#W0sZmlsZQ%3D%3D?line=16'>17</a>\u001b[0m ])\n\u001b[0;32m---> <a href='vscode-notebook-cell:/Users/jarvis/pymycod/Hacksummit/chexpert.ipynb#W0sZmlsZQ%3D%3D?line=17'>18</a>\u001b[0m image \u001b[39m=\u001b[39m transform(image)\n\u001b[1;32m     <a href='vscode-notebook-cell:/Users/jarvis/pymycod/Hacksummit/chexpert.ipynb#W0sZmlsZQ%3D%3D?line=18'>19</a>\u001b[0m \u001b[39mreturn\u001b[39;00m image\u001b[39m.\u001b[39munsqueeze(\u001b[39m0\u001b[39m)\n",
      "File \u001b[0;32m/opt/anaconda3/envs/tensor/lib/python3.8/site-packages/torchvision/transforms/transforms.py:95\u001b[0m, in \u001b[0;36mCompose.__call__\u001b[0;34m(self, img)\u001b[0m\n\u001b[1;32m     93\u001b[0m \u001b[39mdef\u001b[39;00m \u001b[39m__call__\u001b[39m(\u001b[39mself\u001b[39m, img):\n\u001b[1;32m     94\u001b[0m     \u001b[39mfor\u001b[39;00m t \u001b[39min\u001b[39;00m \u001b[39mself\u001b[39m\u001b[39m.\u001b[39mtransforms:\n\u001b[0;32m---> 95\u001b[0m         img \u001b[39m=\u001b[39m t(img)\n\u001b[1;32m     96\u001b[0m     \u001b[39mreturn\u001b[39;00m img\n",
      "File \u001b[0;32m/opt/anaconda3/envs/tensor/lib/python3.8/site-packages/torch/nn/modules/module.py:1501\u001b[0m, in \u001b[0;36mModule._call_impl\u001b[0;34m(self, *args, **kwargs)\u001b[0m\n\u001b[1;32m   1496\u001b[0m \u001b[39m# If we don't have any hooks, we want to skip the rest of the logic in\u001b[39;00m\n\u001b[1;32m   1497\u001b[0m \u001b[39m# this function, and just call forward.\u001b[39;00m\n\u001b[1;32m   1498\u001b[0m \u001b[39mif\u001b[39;00m \u001b[39mnot\u001b[39;00m (\u001b[39mself\u001b[39m\u001b[39m.\u001b[39m_backward_hooks \u001b[39mor\u001b[39;00m \u001b[39mself\u001b[39m\u001b[39m.\u001b[39m_backward_pre_hooks \u001b[39mor\u001b[39;00m \u001b[39mself\u001b[39m\u001b[39m.\u001b[39m_forward_hooks \u001b[39mor\u001b[39;00m \u001b[39mself\u001b[39m\u001b[39m.\u001b[39m_forward_pre_hooks\n\u001b[1;32m   1499\u001b[0m         \u001b[39mor\u001b[39;00m _global_backward_pre_hooks \u001b[39mor\u001b[39;00m _global_backward_hooks\n\u001b[1;32m   1500\u001b[0m         \u001b[39mor\u001b[39;00m _global_forward_hooks \u001b[39mor\u001b[39;00m _global_forward_pre_hooks):\n\u001b[0;32m-> 1501\u001b[0m     \u001b[39mreturn\u001b[39;00m forward_call(\u001b[39m*\u001b[39;49margs, \u001b[39m*\u001b[39;49m\u001b[39m*\u001b[39;49mkwargs)\n\u001b[1;32m   1502\u001b[0m \u001b[39m# Do not call functions when jit is used\u001b[39;00m\n\u001b[1;32m   1503\u001b[0m full_backward_hooks, non_full_backward_hooks \u001b[39m=\u001b[39m [], []\n",
      "File \u001b[0;32m/opt/anaconda3/envs/tensor/lib/python3.8/site-packages/torchvision/transforms/transforms.py:277\u001b[0m, in \u001b[0;36mNormalize.forward\u001b[0;34m(self, tensor)\u001b[0m\n\u001b[1;32m    269\u001b[0m \u001b[39mdef\u001b[39;00m \u001b[39mforward\u001b[39m(\u001b[39mself\u001b[39m, tensor: Tensor) \u001b[39m-\u001b[39m\u001b[39m>\u001b[39m Tensor:\n\u001b[1;32m    270\u001b[0m     \u001b[39m\"\"\"\u001b[39;00m\n\u001b[1;32m    271\u001b[0m \u001b[39m    Args:\u001b[39;00m\n\u001b[1;32m    272\u001b[0m \u001b[39m        tensor (Tensor): Tensor image to be normalized.\u001b[39;00m\n\u001b[0;32m   (...)\u001b[0m\n\u001b[1;32m    275\u001b[0m \u001b[39m        Tensor: Normalized Tensor image.\u001b[39;00m\n\u001b[1;32m    276\u001b[0m \u001b[39m    \"\"\"\u001b[39;00m\n\u001b[0;32m--> 277\u001b[0m     \u001b[39mreturn\u001b[39;00m F\u001b[39m.\u001b[39;49mnormalize(tensor, \u001b[39mself\u001b[39;49m\u001b[39m.\u001b[39;49mmean, \u001b[39mself\u001b[39;49m\u001b[39m.\u001b[39;49mstd, \u001b[39mself\u001b[39;49m\u001b[39m.\u001b[39;49minplace)\n",
      "File \u001b[0;32m/opt/anaconda3/envs/tensor/lib/python3.8/site-packages/torchvision/transforms/functional.py:363\u001b[0m, in \u001b[0;36mnormalize\u001b[0;34m(tensor, mean, std, inplace)\u001b[0m\n\u001b[1;32m    360\u001b[0m \u001b[39mif\u001b[39;00m \u001b[39mnot\u001b[39;00m \u001b[39misinstance\u001b[39m(tensor, torch\u001b[39m.\u001b[39mTensor):\n\u001b[1;32m    361\u001b[0m     \u001b[39mraise\u001b[39;00m \u001b[39mTypeError\u001b[39;00m(\u001b[39mf\u001b[39m\u001b[39m\"\u001b[39m\u001b[39mimg should be Tensor Image. Got \u001b[39m\u001b[39m{\u001b[39;00m\u001b[39mtype\u001b[39m(tensor)\u001b[39m}\u001b[39;00m\u001b[39m\"\u001b[39m)\n\u001b[0;32m--> 363\u001b[0m \u001b[39mreturn\u001b[39;00m F_t\u001b[39m.\u001b[39;49mnormalize(tensor, mean\u001b[39m=\u001b[39;49mmean, std\u001b[39m=\u001b[39;49mstd, inplace\u001b[39m=\u001b[39;49minplace)\n",
      "File \u001b[0;32m/opt/anaconda3/envs/tensor/lib/python3.8/site-packages/torchvision/transforms/_functional_tensor.py:928\u001b[0m, in \u001b[0;36mnormalize\u001b[0;34m(tensor, mean, std, inplace)\u001b[0m\n\u001b[1;32m    926\u001b[0m \u001b[39mif\u001b[39;00m std\u001b[39m.\u001b[39mndim \u001b[39m==\u001b[39m \u001b[39m1\u001b[39m:\n\u001b[1;32m    927\u001b[0m     std \u001b[39m=\u001b[39m std\u001b[39m.\u001b[39mview(\u001b[39m-\u001b[39m\u001b[39m1\u001b[39m, \u001b[39m1\u001b[39m, \u001b[39m1\u001b[39m)\n\u001b[0;32m--> 928\u001b[0m \u001b[39mreturn\u001b[39;00m tensor\u001b[39m.\u001b[39;49msub_(mean)\u001b[39m.\u001b[39mdiv_(std)\n",
      "\u001b[0;31mRuntimeError\u001b[0m: output with shape [1, 224, 224] doesn't match the broadcast shape [3, 224, 224]"
     ]
    }
   ],
   "source": [
    "\n",
    "from PIL import Image\n",
    "from torchvision import transforms\n",
    "import torch\n",
    "import cv2\n",
    "\n",
    "\n",
    "\n",
    "\n",
    "model = torch.load('/Users/jarvis/pymycod/Hacksummit/pytorch_model.bin',map_location=torch.device('cpu'))\n",
    "\n",
    "def preprocess_image(image_path):\n",
    "    image = Image.open(image_path)\n",
    "    transform = transforms.Compose([\n",
    "        transforms.Resize((224, 224)),  # Resize to match the model's input size\n",
    "        transforms.ToTensor(),           # Convert to PyTorch tensor\n",
    "        transforms.Normalize(mean=[0.485, 0.456, 0.406], std=[0.229, 0.224, 0.225])  # Normalize as needed\n",
    "    ])\n",
    "    image = transform(image)\n",
    "    return image.unsqueeze(0)  # Add a batch dimension\n",
    "image_path = '/Users/jarvis/pymycod/tensorflow_AI/chest_xray/val/PNEUMONIA/person1946_bacteria_4875.jpeg' \n",
    "input_image = preprocess_image(image_path)\n",
    "image = cv2.imread(input_image)\n",
    "grayscale_image = cv2.cvtColor(image, cv2.COLOR_BGR2GRAY)\n",
    "cv2.imwrite(\"/Users/jarvis/pymycod/tensorflow_AI/chest_xray/gray_pnuem1.jpg\", grayscale_image)\n",
    "\n",
    "\n",
    "with torch.no_grad():\n",
    "    output = model(input_image)\n",
    "\n",
    "# Process the model's output as needed\n",
    "prediction = output.argmax().item()\n"
   ]
  },
  {
   "cell_type": "code",
   "execution_count": 31,
   "metadata": {},
   "outputs": [
    {
     "name": "stderr",
     "output_type": "stream",
     "text": [
      "2023-09-16 14:00:44.863432: I tensorflow/core/grappler/optimizers/custom_graph_optimizer_registry.cc:113] Plugin optimizer for device_type GPU is enabled.\n"
     ]
    },
    {
     "name": "stdout",
     "output_type": "stream",
     "text": [
      "1/1 [==============================] - 1s 1s/step\n",
      "[[1.6951136e-08]]\n"
     ]
    }
   ],
   "source": [
    "import tensorflow as tf\n",
    "import numpy as np\n",
    "import keras.utils as image\n",
    "model1 = tf.keras.models.load_model('/Users/jarvis/pymycod/tensorflow_AI/trained_models/lr_model_chest_xray.h5')\n",
    "img_width, img_height = 300,300\n",
    "img = image.load_img(f'/Users/jarvis/pymycod/Hacksummit/IMG_4641.jpg', target_size = (img_width, img_height))\n",
    "img = image.img_to_array(img)\n",
    "img = np.expand_dims(img, axis = 0)\n",
    "ans = model1.predict(img)\n",
    "if ans <=2.8:\n",
    "    ans = \"pnuemonia\"\n",
    "else:\n",
    "    ans = \"normal\"\n",
    "print(ans)    \n",
    "            \n"
   ]
  },
  {
   "cell_type": "code",
   "execution_count": 77,
   "metadata": {},
   "outputs": [],
   "source": [
    "import tensorflow as tf\n",
    "import numpy as np\n",
    "import keras.utils as image\n",
    "\n",
    "model1 = tf.keras.models.load_model('/Users/jarvis/pymycod/Hacksummit/densenet_chest.h5',compile=False)\n",
    "model1.compile(optimizer='adam',loss = 'categorical_crossentropy')\n",
    "\n",
    "            \n"
   ]
  },
  {
   "cell_type": "code",
   "execution_count": 83,
   "metadata": {},
   "outputs": [
    {
     "name": "stdout",
     "output_type": "stream",
     "text": [
      "1/1 [==============================] - 0s 203ms/step\n"
     ]
    },
    {
     "data": {
      "text/plain": [
       "'Pleural_Thickening'"
      ]
     },
     "execution_count": 83,
     "metadata": {},
     "output_type": "execute_result"
    }
   ],
   "source": [
    "img_width, img_height = 224,224\n",
    "img = image.load_img(f'/Users/jarvis/pymycod/Hacksummit/Screenshot 2023-09-16 at 4.35.59 PM.png', target_size = (img_width, img_height))\n",
    "img = image.img_to_array(img)\n",
    "img = np.expand_dims(img, axis = 0)\n",
    "ans = model1.predict(img)\n",
    "ans = np.argmax(ans)\n",
    "labels = ['Cardiomegaly',\n",
    "          'Atelectasis',  \n",
    "          'Emphysema', \n",
    "          'Effusion', \n",
    "        'Pleural_Thickening',   \n",
    "          'Mass', \n",
    "          'Nodule', \n",
    "          'Pneumothorax',\n",
    "          'Pneumonia', \n",
    "          'Fibrosis', \n",
    "          'Edema', \n",
    "          'Consolidation']\n",
    "labels[ans]"
   ]
  },
  {
   "cell_type": "code",
   "execution_count": 98,
   "metadata": {},
   "outputs": [
    {
     "name": "stdout",
     "output_type": "stream",
     "text": [
      "1/1 [==============================] - 0s 353ms/step\n"
     ]
    },
    {
     "data": {
      "text/plain": [
       "'Pneumonia'"
      ]
     },
     "execution_count": 98,
     "metadata": {},
     "output_type": "execute_result"
    }
   ],
   "source": [
    "img_width, img_height = 224,224\n",
    "img = image.load_img(f'/Users/jarvis/pymycod/Hacksummit/2.png', target_size = (img_width, img_height))\n",
    "img = image.img_to_array(img)\n",
    "img = np.expand_dims(img, axis = 0)\n",
    "ans = model1.predict(img)\n",
    "ans = np.argmax(ans)\n",
    "labels = ['Cardiomegaly', \n",
    "          'Emphysema', \n",
    "          'Effusion', \n",
    "          'Infilteration', \n",
    "          'Hernia', \n",
    "          'Mass', \n",
    "          'Nodule', \n",
    "          'Atelectasis',\n",
    "          'Pneumothorax',\n",
    "          'Pleural_Thickening', \n",
    "          'Pneumonia', \n",
    "          'Fibrosis', \n",
    "          'Edema', \n",
    "          'Consolidation']\n",
    "labels[ans]"
   ]
  },
  {
   "cell_type": "code",
   "execution_count": null,
   "metadata": {},
   "outputs": [],
   "source": []
  }
 ],
 "metadata": {
  "kernelspec": {
   "display_name": "tensor",
   "language": "python",
   "name": "python3"
  },
  "language_info": {
   "codemirror_mode": {
    "name": "ipython",
    "version": 3
   },
   "file_extension": ".py",
   "mimetype": "text/x-python",
   "name": "python",
   "nbconvert_exporter": "python",
   "pygments_lexer": "ipython3",
   "version": "3.8.13"
  },
  "orig_nbformat": 4
 },
 "nbformat": 4,
 "nbformat_minor": 2
}
